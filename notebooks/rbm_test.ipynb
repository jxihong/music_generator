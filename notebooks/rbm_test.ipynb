{
 "cells": [
  {
   "cell_type": "code",
   "execution_count": 1,
   "metadata": {
    "collapsed": false
   },
   "outputs": [],
   "source": [
    "import sys, os\n",
    "sys.path.append(os.path.abspath('..'))\n",
    "\n",
    "from midi_parser import *"
   ]
  },
  {
   "cell_type": "code",
   "execution_count": 2,
   "metadata": {
    "collapsed": true
   },
   "outputs": [],
   "source": [
    "import numpy as np\n",
    "import pandas as pd\n",
    "import glob\n",
    "import tensorflow as tf\n",
    "from tqdm import tqdm"
   ]
  },
  {
   "cell_type": "markdown",
   "metadata": {},
   "source": [
    "Sample timesteps using RBM trained on single song"
   ]
  },
  {
   "cell_type": "code",
   "execution_count": 3,
   "metadata": {
    "collapsed": true
   },
   "outputs": [],
   "source": [
    "def get_songs(path):\n",
    "    files = glob.glob('{}/*.mid*'.format(path))\n",
    "    songs = []\n",
    "    for f in files:\n",
    "        try:\n",
    "            song = np.array(midiToStatematrix(f))\n",
    "            if np.array(song).shape[0] > 50:\n",
    "                songs.append(song)\n",
    "        except:\n",
    "            # Just ignore songs that can't be parsed\n",
    "            continue         \n",
    "    return songs"
   ]
  },
  {
   "cell_type": "code",
   "execution_count": 4,
   "metadata": {
    "collapsed": false
   },
   "outputs": [],
   "source": [
    "songs = get_songs('../Jazz_Music_Midi')"
   ]
  },
  {
   "cell_type": "code",
   "execution_count": 5,
   "metadata": {
    "collapsed": false
   },
   "outputs": [
    {
     "name": "stdout",
     "output_type": "stream",
     "text": [
      "1 songs processed\n"
     ]
    }
   ],
   "source": [
    "print \"{} songs processed\".format(len(songs))"
   ]
  },
  {
   "cell_type": "code",
   "execution_count": 6,
   "metadata": {
    "collapsed": false
   },
   "outputs": [],
   "source": [
    "### HyperParameters\n",
    "\n",
    "lowest_note = 24\n",
    "highest_note = 102 \n",
    "note_range = highest_note-lowest_note\n",
    "\n",
    "num_timesteps  = 10 \n",
    "n_visible      = 2*note_range*num_timesteps #size of visible layer\n",
    "n_hidden       = 100\n",
    "\n",
    "num_epochs = 500 \n",
    "batch_size = 100 \n",
    "learning_rate = tf.constant(0.005, tf.float32) #learning rate"
   ]
  },
  {
   "cell_type": "code",
   "execution_count": 8,
   "metadata": {
    "collapsed": true
   },
   "outputs": [],
   "source": [
    "x  = tf.placeholder(tf.float32, [None, n_visible], name=\"x\") \n",
    "W  = tf.Variable(tf.random_normal([n_visible, n_hidden], 0.01), name=\"W\") \n",
    "hb = tf.Variable(tf.zeros([1, n_hidden],  tf.float32, name=\"hb\")) # bias hidden layer\n",
    "vb = tf.Variable(tf.zeros([1, n_visible],  tf.float32, name=\"vb\")) # bias visible"
   ]
  },
  {
   "cell_type": "code",
   "execution_count": 113,
   "metadata": {
    "collapsed": true
   },
   "outputs": [],
   "source": [
    "#Sample from a vector of probabilities\n",
    "def sample(probs):\n",
    "    #Takes in a vector of probabilities, and returns a random vector of 0s and 1s sampled from the input vector\n",
    "    return tf.floor(probs + tf.random_uniform(tf.shape(probs), 0, 1))"
   ]
  },
  {
   "cell_type": "code",
   "execution_count": 114,
   "metadata": {
    "collapsed": true
   },
   "outputs": [],
   "source": [
    "def gibbs_sample(k): # iterates for k steps\n",
    "    def step(i, k, x_k):\n",
    "        #Runs a single step.\n",
    "        h_k = sample(tf.sigmoid(tf.matmul(x_k, W) + hb)) #Propagate the visible values to sample the hidden values\n",
    "        x_k = sample(tf.sigmoid(tf.matmul(h_k, tf.transpose(W)) + vb)) #Propagate the hidden values to sample the visible values\n",
    "        return i + 1, k, x_k\n",
    "    \n",
    "    i = tf.constant(0) #counter\n",
    "    [_, _, x_sample] = tf.while_loop(lambda i, k, *args: i < k, step, \\\n",
    "                                        [i, tf.constant(k), x], parallel_iterations=1, back_prop=False)\n",
    "    \n",
    "    # TF tutorials said we need this to stop RBM values from backpropogating\n",
    "    x_sample = tf.stop_gradient(x_sample) \n",
    "    return x_sample"
   ]
  },
  {
   "cell_type": "code",
   "execution_count": 115,
   "metadata": {
    "collapsed": false
   },
   "outputs": [],
   "source": [
    "### Training\n",
    "\n",
    "# Run gibbs sampling for one step and save samples for x and h\n",
    "h = sample(tf.sigmoid(tf.matmul(x, W) + hb)) \n",
    "\n",
    "x_sample = gibbs_sample(1) \n",
    "h_sample = sample(tf.sigmoid(tf.matmul(x_sample, W) + hb)) \n",
    "\n",
    "#Update the values of W, hb, and vb\n",
    "size_x = tf.cast(tf.shape(x)[0], tf.float32)\n",
    "W_update  = tf.mul(learning_rate/size_x, tf.sub(tf.matmul(tf.transpose(x), h), \\\n",
    "                                        tf.matmul(tf.transpose(x_sample), h_sample)))\n",
    "\n",
    "vb_update = tf.mul(learning_rate/size_x, tf.reduce_sum(tf.sub(x, x_sample), 0, True))\n",
    "hb_update = tf.mul(learning_rate/size_x, tf.reduce_sum(tf.sub(h, h_sample), 0, True))\n",
    "\n",
    "#When we do sess.run(updt), TensorFlow will run all 3 update steps\n",
    "updt = [W.assign_add(W_update), vb.assign_add(vb_update), hb.assign_add(hb_update)]"
   ]
  },
  {
   "cell_type": "code",
   "execution_count": 91,
   "metadata": {
    "collapsed": false
   },
   "outputs": [
    {
     "data": {
      "text/plain": [
       "(3260, 156)"
      ]
     },
     "execution_count": 91,
     "metadata": {},
     "output_type": "execute_result"
    }
   ],
   "source": [
    "song = songs[0]\n",
    "song = song[:int(np.floor((song.shape[0]/num_timesteps) * num_timesteps))]\n",
    "song.shape"
   ]
  },
  {
   "cell_type": "code",
   "execution_count": 92,
   "metadata": {
    "collapsed": false
   },
   "outputs": [
    {
     "data": {
      "text/plain": [
       "(326, 1560)"
      ]
     },
     "execution_count": 92,
     "metadata": {},
     "output_type": "execute_result"
    }
   ],
   "source": [
    "np.reshape(song, [song.shape[0]/num_timesteps, song.shape[1]*num_timesteps]).shape"
   ]
  },
  {
   "cell_type": "code",
   "execution_count": null,
   "metadata": {
    "collapsed": true
   },
   "outputs": [],
   "source": [
    "# Train the model\n",
    "with tf.Session() as sess:\n",
    "    init = tf.global_variables_initializer()\n",
    "    sess.run(init)\n",
    "    #Run through all of the training data num_epochs times\n",
    "    for epoch in tqdm(range(num_epochs)):\n",
    "        for song in songs:\n",
    "            song = np.array(song)\n",
    "            # Round down to nearest multiple\n",
    "            song = song[:int(np.floor((song.shape[0]/num_timesteps) * num_timesteps))]\n",
    "            # Reshape into blocks of num_timesteps\n",
    "            song = np.reshape(song, [song.shape[0]/num_timesteps, song.shape[1]*num_timesteps])\n",
    "            #Train the RBM on batch_size examples at a time\n",
    "            for i in range(1, len(song), batch_size): \n",
    "                tr_x = song[i:i+batch_size]\n",
    "                sess.run(updt, feed_dict={x: tr_x})\n",
    "    \n",
    "    gen = gibbs_sample(1).eval(feed_dict={x: np.zeros((10, n_visible))})\n",
    "    for i in range(gen.shape[0]):\n",
    "        if not any(gen[i,:]):\n",
    "            continue\n",
    "        #Here we reshape the vector to be time x notes, and then save the vector as a midi file\n",
    "        s = np.reshape(gen[i,:], (num_timesteps, 2*note_range))\n",
    "        statematrixToMidi(s, \"generated_{}\".format(i))"
   ]
  },
  {
   "cell_type": "markdown",
   "metadata": {
    "collapsed": true
   },
   "source": [
    "Test custom RBM class."
   ]
  },
  {
   "cell_type": "code",
   "execution_count": 7,
   "metadata": {
    "collapsed": false
   },
   "outputs": [],
   "source": [
    "from rbm import RBM"
   ]
  },
  {
   "cell_type": "code",
   "execution_count": 8,
   "metadata": {
    "collapsed": true
   },
   "outputs": [],
   "source": [
    "model = RBM()"
   ]
  },
  {
   "cell_type": "code",
   "execution_count": 9,
   "metadata": {
    "collapsed": false
   },
   "outputs": [],
   "source": [
    "X = []\n",
    "for song in songs:\n",
    "    song = np.array(song)\n",
    "    # Round down to nearest multiple\n",
    "    song = song[:int(np.floor((song.shape[0]/num_timesteps) * num_timesteps))]\n",
    "    # Reshape into blocks of num_timesteps\n",
    "    song = np.reshape(song, [song.shape[0]/num_timesteps, song.shape[1]*num_timesteps])\n",
    "    X.extend(song)\n",
    "X = np.array(X)"
   ]
  },
  {
   "cell_type": "code",
   "execution_count": 10,
   "metadata": {
    "collapsed": false
   },
   "outputs": [
    {
     "data": {
      "text/plain": [
       "(326, 1560)"
      ]
     },
     "execution_count": 10,
     "metadata": {},
     "output_type": "execute_result"
    }
   ],
   "source": [
    "X.shape"
   ]
  },
  {
   "cell_type": "code",
   "execution_count": 11,
   "metadata": {
    "collapsed": false
   },
   "outputs": [
    {
     "name": "stderr",
     "output_type": "stream",
     "text": [
      "100%|██████████| 500/500 [00:11<00:00, 44.24it/s]\n"
     ]
    },
    {
     "name": "stdout",
     "output_type": "stream",
     "text": [
      "Model saved in file: models/rbm.ckpt\n"
     ]
    }
   ],
   "source": [
    "model.fit(X)"
   ]
  },
  {
   "cell_type": "code",
   "execution_count": 16,
   "metadata": {
    "collapsed": false
   },
   "outputs": [],
   "source": [
    "gen = model.sample(np.zeros((10, n_visible)))"
   ]
  },
  {
   "cell_type": "code",
   "execution_count": 17,
   "metadata": {
    "collapsed": true
   },
   "outputs": [],
   "source": [
    "for i in range(gen.shape[0]):\n",
    "    if not any(gen[i,:]):\n",
    "        continue\n",
    "    #Here we reshape the vector to be time x notes, and then save the vector as a midi file\n",
    "    s = np.reshape(gen[i,:], (num_timesteps, 2*note_range))\n",
    "    statematrixToMidi(s, \"generated_{}\".format(i))"
   ]
  }
 ],
 "metadata": {
  "kernelspec": {
   "display_name": "Python 2",
   "language": "python",
   "name": "python2"
  },
  "language_info": {
   "codemirror_mode": {
    "name": "ipython",
    "version": 2
   },
   "file_extension": ".py",
   "mimetype": "text/x-python",
   "name": "python",
   "nbconvert_exporter": "python",
   "pygments_lexer": "ipython2",
   "version": "2.7.11"
  }
 },
 "nbformat": 4,
 "nbformat_minor": 1
}
