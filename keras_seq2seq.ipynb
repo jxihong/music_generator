{
 "cells": [
  {
   "cell_type": "code",
   "execution_count": 1,
   "metadata": {
    "collapsed": false
   },
   "outputs": [
    {
     "name": "stderr",
     "output_type": "stream",
     "text": [
      "Using TensorFlow backend.\n"
     ]
    }
   ],
   "source": [
    "from keras.models import Sequential\n",
    "import time\n",
    "from keras.layers import Input, LSTM, RepeatVector, TimeDistributed, Dense, Activation,Dropout\n",
    "from keras.models import Model\n",
    "from utils import *\n",
    "import glob\n",
    "import numpy as np\n",
    "from midi_parser import *\n",
    "NOTE_SIZE = 156"
   ]
  },
  {
   "cell_type": "code",
   "execution_count": 3,
   "metadata": {
    "collapsed": false
   },
   "outputs": [],
   "source": [
    "drums, melodies = read_state_matrices()"
   ]
  },
  {
   "cell_type": "code",
   "execution_count": 3,
   "metadata": {
    "collapsed": false
   },
   "outputs": [],
   "source": [
    "def pad_track_list(stateList):\n",
    "    trackList = stateList\n",
    "    lengths = []\n",
    "    for i in range(0, len(trackList)):\n",
    "        lengths.append(len(trackList[i]))\n",
    "    \n",
    "    longest_track = lengths.index(max(lengths))\n",
    "    max_length = max(lengths)\n",
    "    \n",
    "    for i in range(0, len(trackList)):\n",
    "        zeros = np.zeros((max_length - len(trackList[i]), 156))\n",
    "        trackList[i] = np.concatenate((trackList[i], zeros))\n",
    "    return trackList"
   ]
  },
  {
   "cell_type": "code",
   "execution_count": 4,
   "metadata": {
    "collapsed": false
   },
   "outputs": [],
   "source": [
    "X = melodies\n",
    "y = drums"
   ]
  },
  {
   "cell_type": "code",
   "execution_count": 6,
   "metadata": {
    "collapsed": false
   },
   "outputs": [
    {
     "data": {
      "text/plain": [
       "(9,)"
      ]
     },
     "execution_count": 6,
     "metadata": {},
     "output_type": "execute_result"
    }
   ],
   "source": [
    "np.shape(X_train)"
   ]
  },
  {
   "cell_type": "code",
   "execution_count": 5,
   "metadata": {
    "collapsed": false
   },
   "outputs": [],
   "source": [
    "# split out a validation set\n",
    "split_at = len(X) - len(X) / 10\n",
    "X_train = X[:split_at]\n",
    "X_val = X[split_at:]\n",
    "y_train = y[:split_at]\n",
    "y_val = y[split_at:]"
   ]
  },
  {
   "cell_type": "code",
   "execution_count": 16,
   "metadata": {
    "collapsed": false
   },
   "outputs": [
    {
     "name": "stdout",
     "output_type": "stream",
     "text": [
      "(2472, 5, 156)\n"
     ]
    }
   ],
   "source": [
    "X = []\n",
    "y = []\n",
    "window = 5\n",
    "for j in range(len(X_train)):\n",
    "    for i in range(1, len(X_train[j]), window):\n",
    "        if (i + window >= len(X_train[j])):\n",
    "            break\n",
    "        X.append(X_train[j][i: i + window])\n",
    "        y.append([y_train[j][i + window]])\n",
    "\n",
    "#model = build_model(window, n_visible)\n",
    "print np.shape(X)\n",
    "X = np.array(X)\n",
    "y = np.array(y)"
   ]
  },
  {
   "cell_type": "code",
   "execution_count": 14,
   "metadata": {
    "collapsed": false
   },
   "outputs": [
    {
     "data": {
      "text/plain": [
       "(2472, 5, 156)"
      ]
     },
     "execution_count": 14,
     "metadata": {},
     "output_type": "execute_result"
    }
   ],
   "source": [
    "np.shape(X)"
   ]
  },
  {
   "cell_type": "code",
   "execution_count": 9,
   "metadata": {
    "collapsed": false
   },
   "outputs": [],
   "source": [
    "NUM_NOTES = 156\n",
    "HIDDEN_SIZE = 500 # arbitrary\n",
    "MAXLEN = len(X[0]) # the maximum length of the training sample.\n",
    "LAYERS = 1"
   ]
  },
  {
   "cell_type": "code",
   "execution_count": 10,
   "metadata": {
    "collapsed": false
   },
   "outputs": [],
   "source": [
    "model = Sequential()\n",
    "model.add(LSTM(HIDDEN_SIZE,input_shape = (5,156))) # variable size\n",
    "model.add(RepeatVector(1)) # input to decoder = hidden size thing repeated for each time step\n",
    "\n",
    "\n",
    "for _ in range(LAYERS):\n",
    "    model.add(LSTM(HIDDEN_SIZE, return_sequences=True))\n",
    "   \n",
    "    \n",
    "model.add(TimeDistributed(Dense(NUM_NOTES)))\n",
    "model.add(Activation('sigmoid'))\n"
   ]
  },
  {
   "cell_type": "code",
   "execution_count": 11,
   "metadata": {
    "collapsed": false
   },
   "outputs": [],
   "source": [
    "model.compile(loss='categorical_crossentropy',\n",
    "              optimizer='rmsprop',\n",
    "              metrics=['accuracy'])"
   ]
  },
  {
   "cell_type": "code",
   "execution_count": 12,
   "metadata": {
    "collapsed": false
   },
   "outputs": [
    {
     "name": "stdout",
     "output_type": "stream",
     "text": [
      "Epoch 1/10\n",
      "2472/2472 [==============================] - 5s - loss: 6.5153 - acc: 0.0736     \n",
      "Epoch 2/10\n",
      "2472/2472 [==============================] - 3s - loss: 5.8588 - acc: 0.0886     \n",
      "Epoch 3/10\n",
      "2472/2472 [==============================] - 3s - loss: 5.5160 - acc: 0.1557     \n",
      "Epoch 4/10\n",
      "2472/2472 [==============================] - 3s - loss: 5.3173 - acc: 0.1553     \n",
      "Epoch 5/10\n",
      "2472/2472 [==============================] - 3s - loss: 5.2509 - acc: 0.1553     \n",
      "Epoch 6/10\n",
      "2472/2472 [==============================] - 3s - loss: 5.1490 - acc: 0.1557     \n",
      "Epoch 7/10\n",
      "2472/2472 [==============================] - 3s - loss: 5.0614 - acc: 0.1481     \n",
      "Epoch 8/10\n",
      "2472/2472 [==============================] - 3s - loss: 4.9981 - acc: 0.1343     \n",
      "Epoch 9/10\n",
      "2472/2472 [==============================] - 3s - loss: 4.9513 - acc: 0.1274     \n",
      "Epoch 10/10\n",
      "2472/2472 [==============================] - 3s - loss: 4.9016 - acc: 0.1525     \n"
     ]
    },
    {
     "data": {
      "text/plain": [
       "<keras.callbacks.History at 0x12e685c90>"
      ]
     },
     "execution_count": 12,
     "metadata": {},
     "output_type": "execute_result"
    }
   ],
   "source": [
    "model.fit(X, y, batch_size=100)"
   ]
  },
  {
   "cell_type": "code",
   "execution_count": 55,
   "metadata": {
    "collapsed": false
   },
   "outputs": [
    {
     "name": "stdout",
     "output_type": "stream",
     "text": [
      "_________________________________________________________________\n",
      "Layer (type)                 Output Shape              Param #   \n",
      "=================================================================\n",
      "lstm_16 (LSTM)               (None, 500)               1314000   \n",
      "_________________________________________________________________\n",
      "repeat_vector_9 (RepeatVecto (None, 1, 500)            0         \n",
      "_________________________________________________________________\n",
      "lstm_17 (LSTM)               (None, 1, 500)            2002000   \n",
      "_________________________________________________________________\n",
      "time_distributed_7 (TimeDist (None, 1, 156)            78156     \n",
      "_________________________________________________________________\n",
      "activation_7 (Activation)    (None, 1, 156)            0         \n",
      "=================================================================\n",
      "Total params: 3,394,156\n",
      "Trainable params: 3,394,156\n",
      "Non-trainable params: 0\n",
      "_________________________________________________________________\n"
     ]
    }
   ],
   "source": [
    "model.summary()"
   ]
  },
  {
   "cell_type": "code",
   "execution_count": 57,
   "metadata": {
    "collapsed": false
   },
   "outputs": [],
   "source": [
    "# test the generating\n",
    "start = get_song(midiToStatematrix(\"./data/comrain_melody.mid\")) # Start sequence for generated song"
   ]
  },
  {
   "cell_type": "code",
   "execution_count": 75,
   "metadata": {
    "collapsed": false
   },
   "outputs": [
    {
     "data": {
      "text/plain": [
       "array([[0, 0, 0, ..., 0, 0, 0],\n",
       "       [0, 0, 0, ..., 0, 0, 0],\n",
       "       [0, 0, 0, ..., 0, 0, 0],\n",
       "       ..., \n",
       "       [0, 0, 0, ..., 0, 0, 0],\n",
       "       [0, 0, 0, ..., 0, 0, 0],\n",
       "       [0, 0, 0, ..., 0, 0, 0]])"
      ]
     },
     "execution_count": 75,
     "metadata": {},
     "output_type": "execute_result"
    }
   ],
   "source": [
    "start_length = 20\n",
    "generated = start[:start_length]\n",
    "generated"
   ]
  },
  {
   "cell_type": "code",
   "execution_count": 76,
   "metadata": {
    "collapsed": false
   },
   "outputs": [],
   "source": [
    "while len(generated) < 300:\n",
    "    x = np.expand_dims(generated[-5:], axis = 0)\n",
    "\n",
    "    preds = model.predict(x, verbose=0)[0]\n",
    "    next = sample(preds)\n",
    "\n",
    "    generated = np.vstack((generated, next))"
   ]
  },
  {
   "cell_type": "code",
   "execution_count": 73,
   "metadata": {
    "collapsed": true
   },
   "outputs": [],
   "source": [
    "def sample(preds):\n",
    "  # Helper function to sample an index from a probability array\n",
    "  preds = np.asarray(preds).astype('float64')\n",
    "  \n",
    "  preds[preds == np.inf] = 0      \n",
    "  return np.floor(preds + np.random.uniform(0, 1, preds.shape))"
   ]
  },
  {
   "cell_type": "code",
   "execution_count": 67,
   "metadata": {
    "collapsed": false
   },
   "outputs": [],
   "source": [
    "#generated = clean_song(generated)"
   ]
  },
  {
   "cell_type": "code",
   "execution_count": 77,
   "metadata": {
    "collapsed": false
   },
   "outputs": [],
   "source": [
    "statematrixToMidi(generated)"
   ]
  },
  {
   "cell_type": "code",
   "execution_count": 78,
   "metadata": {
    "collapsed": true
   },
   "outputs": [],
   "source": [
    "gen2 = clean_song(generated)"
   ]
  },
  {
   "cell_type": "code",
   "execution_count": 88,
   "metadata": {
    "collapsed": false
   },
   "outputs": [
    {
     "data": {
      "text/plain": [
       "(300, 156)"
      ]
     },
     "execution_count": 88,
     "metadata": {},
     "output_type": "execute_result"
    }
   ],
   "source": [
    "np.shape(generated)"
   ]
  },
  {
   "cell_type": "code",
   "execution_count": null,
   "metadata": {
    "collapsed": true
   },
   "outputs": [],
   "source": []
  }
 ],
 "metadata": {
  "anaconda-cloud": {},
  "kernelspec": {
   "display_name": "Python [Root]",
   "language": "python",
   "name": "Python [Root]"
  },
  "language_info": {
   "codemirror_mode": {
    "name": "ipython",
    "version": 2
   },
   "file_extension": ".py",
   "mimetype": "text/x-python",
   "name": "python",
   "nbconvert_exporter": "python",
   "pygments_lexer": "ipython2",
   "version": "2.7.12"
  }
 },
 "nbformat": 4,
 "nbformat_minor": 0
}
